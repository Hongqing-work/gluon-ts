{
 "cells": [
  {
   "cell_type": "markdown",
   "id": "8d257bb9",
   "metadata": {},
   "source": [
    "# serde.dataclass"
   ]
  },
  {
   "cell_type": "markdown",
   "id": "c3a1f8cc",
   "metadata": {},
   "source": [
    "<font size = 3>Serde.dataclass is a dataclass decorator which is based on Pydantic dataclass. It provides value check which is similar with Pydantic but it also provides a way for us to save class.</font>"
   ]
  },
  {
   "cell_type": "markdown",
   "id": "3d050ce1",
   "metadata": {},
   "source": [
    "## How to use it"
   ]
  },
  {
   "cell_type": "code",
   "execution_count": 1,
   "id": "9b27dc02",
   "metadata": {},
   "outputs": [],
   "source": [
    "from pydantic import Field\n",
    "from gluonts.core import serde"
   ]
  },
  {
   "cell_type": "markdown",
   "id": "47cd6b8f",
   "metadata": {},
   "source": [
    "<font size=3>For example, it can check value types and make automatically conversion. You can add more logic after the type checking and conversion in `__post_init_post_parse` method.</font>"
   ]
  },
  {
   "cell_type": "code",
   "execution_count": 2,
   "id": "b3fed3e8",
   "metadata": {},
   "outputs": [],
   "source": [
    "@serde.dataclass\n",
    "class A:\n",
    "    v1: int\n",
    "    v2: float\n",
    "    \n",
    "    def __post_init_post_parse__(self):\n",
    "        self.v3 = self.v1 + self.v2"
   ]
  },
  {
   "cell_type": "code",
   "execution_count": 3,
   "id": "8db00042",
   "metadata": {},
   "outputs": [
    {
     "name": "stdout",
     "output_type": "stream",
     "text": [
      "1 2.0 3.0\n",
      "__main__.A(v1=1.3, v2=2)\n"
     ]
    }
   ],
   "source": [
    "a = A(1.3, 2)\n",
    "print(a.v1, a.v2, a.v3)\n",
    "print(repr(a))"
   ]
  },
  {
   "cell_type": "markdown",
   "id": "57ff414d",
   "metadata": {},
   "source": [
    "<font size=3>You can also check the range by using Field. For example, if you want v1 be greater than 0, you can use `v1: int = Field(gt=0)`. However, because you give v1 a restriction, you should make v2 a `Field(...)`. Pydantic would help you check if you input v2.</font>"
   ]
  },
  {
   "cell_type": "code",
   "execution_count": 4,
   "id": "67770526",
   "metadata": {},
   "outputs": [],
   "source": [
    "@serde.dataclass\n",
    "class B:\n",
    "    v1: int = Field(gt=0)\n",
    "    v2: float = Field(...)\n",
    "    \n",
    "    def __post_init_post_parse__(self):\n",
    "        self.v3 = self.v1 + self.v2"
   ]
  },
  {
   "cell_type": "code",
   "execution_count": 5,
   "id": "e86b3a92",
   "metadata": {},
   "outputs": [
    {
     "name": "stdout",
     "output_type": "stream",
     "text": [
      "b1 error: 1 validation error for B\n",
      "v1\n",
      "  ensure this value is greater than 0 (type=value_error.number.not_gt; limit_value=0)\n",
      "b2 error: 1 validation error for B\n",
      "v2\n",
      "  field required (type=value_error.missing)\n"
     ]
    }
   ],
   "source": [
    "try:\n",
    "    b1 = B(-1, 2)   \n",
    "except Exception as e:\n",
    "    print(\"b1 error:\", e)\n",
    "try:\n",
    "    b2 = B(2)   \n",
    "except Exception as e:\n",
    "    print(\"b2 error:\", e)\n",
    "try:\n",
    "    b3 = B(1.5, 3)   \n",
    "except Exception as e:\n",
    "    print(\"b3 error:\", e)"
   ]
  },
  {
   "cell_type": "markdown",
   "id": "6a445ae3",
   "metadata": {},
   "source": [
    "<font size=3>serde.dataclass also performs well in inheritance. However, sometimes you should also use Field(...) because there are some fields with default value in the base class. You can only use args to set the value in subclass in order. For other values you should use kwargs. Besides, if you use `__post_init_post_parse__()` don't forget to check if the base class also use it.</font>"
   ]
  },
  {
   "cell_type": "code",
   "execution_count": 6,
   "id": "bac4a7f4",
   "metadata": {},
   "outputs": [],
   "source": [
    "from typing import List\n",
    "@serde.dataclass\n",
    "class C(B):\n",
    "    v2: float = Field(...)\n",
    "    v4: List[int] = Field(gt=0)\n",
    "    \n",
    "    def __post_init_post_parse__(self):\n",
    "        super().__post_init_post_parse__()\n",
    "        self.v5 = \"dataclass\""
   ]
  },
  {
   "cell_type": "code",
   "execution_count": 7,
   "id": "0c1e6393",
   "metadata": {},
   "outputs": [
    {
     "name": "stdout",
     "output_type": "stream",
     "text": [
      "c1 error: 1 validation error for C\n",
      "v1\n",
      "  field required (type=value_error.missing)\n",
      "c2 error: 1 validation error for C\n",
      "v4 -> 0\n",
      "  ensure this value is greater than 0 (type=value_error.number.not_gt; limit_value=0)\n"
     ]
    }
   ],
   "source": [
    "try:\n",
    "    c1 = C(3, [1,3])\n",
    "    c1.v1, c1.v2, c1.v3, c1.v4, c1.v5\n",
    "except Exception as e:\n",
    "    print(\"c1 error:\", e)\n",
    "try:\n",
    "    c2 = C(3.6, [-1,3], v1=3)\n",
    "    c2.v1, c2.v2, c2.v3, c2.v4, c2.v5\n",
    "except Exception as e:\n",
    "    print(\"c2 error:\", e)\n",
    "try:\n",
    "    c3 = C(3.6, [1,3], v1=3)\n",
    "    c3.v1, c3.v2, c3.v3, c3.v4, c3.v5\n",
    "except Exception as e:\n",
    "    print(\"c3 error:\", e)"
   ]
  },
  {
   "cell_type": "markdown",
   "id": "9ae2a52c",
   "metadata": {},
   "source": [
    "<font size=3>Besides, you can use OrElse, A default field for a dataclass, that uses a function to calculate thevalue if none was passed.The function can take arguments, which are other fields of the annotateddataclass, which can also be `OrElse` fields. In case of circular dependencies an error is thrown.</font>"
   ]
  },
  {
   "cell_type": "code",
   "execution_count": 8,
   "id": "75f1c1fa",
   "metadata": {},
   "outputs": [],
   "source": [
    "@serde.dataclass\n",
    "class D:\n",
    "    v1: int\n",
    "    v2: int = Field(serde.OrElse(lambda v1: v1 * 2))\n",
    "    v3: int = Field(serde.OrElse(lambda v2: v2 + 4))"
   ]
  },
  {
   "cell_type": "code",
   "execution_count": 9,
   "id": "eeb9cd08",
   "metadata": {},
   "outputs": [
    {
     "name": "stdout",
     "output_type": "stream",
     "text": [
      "10 20 24\n",
      "10 17 21\n"
     ]
    }
   ],
   "source": [
    "d1 = D(10)\n",
    "print(d1.v1, d1.v2, d1.v3)\n",
    "d2 = D(10, 17)\n",
    "print(d2.v1, d2.v2, d2.v3)"
   ]
  },
  {
   "cell_type": "markdown",
   "id": "57f602b6",
   "metadata": {},
   "source": [
    "<font size=3>You can also add some additionl kwargs, dataclass would help you make them `self.kwargs`</font>."
   ]
  },
  {
   "cell_type": "code",
   "execution_count": 10,
   "id": "21659e14",
   "metadata": {},
   "outputs": [],
   "source": [
    "@serde.dataclass\n",
    "class E:\n",
    "    v1: int\n",
    "    def __post_init_post_parse__(self):\n",
    "        self.a = 0\n",
    "        for key, value in self.kwargs.items():\n",
    "            self.a += value"
   ]
  },
  {
   "cell_type": "code",
   "execution_count": 11,
   "id": "562b8227",
   "metadata": {},
   "outputs": [
    {
     "name": "stdout",
     "output_type": "stream",
     "text": [
      "1 15\n"
     ]
    }
   ],
   "source": [
    "e = E(v1=1, a1=2, a2=5, a3=8)\n",
    "print(e.v1, e.a)"
   ]
  },
  {
   "cell_type": "markdown",
   "id": "e55e816b",
   "metadata": {},
   "source": [
    "<font size=3>If the field value may change when you use it, please add the member in `__init_kwargs__`.</font>"
   ]
  },
  {
   "cell_type": "code",
   "execution_count": 12,
   "id": "459bb4a4",
   "metadata": {},
   "outputs": [
    {
     "name": "stdout",
     "output_type": "stream",
     "text": [
      "f1.v1: [10]\n",
      "f2.v1: [0]\n"
     ]
    }
   ],
   "source": [
    "@serde.dataclass\n",
    "class F:\n",
    "    v1: List[int]\n",
    "    v2: float = 3.0\n",
    "\n",
    "    def add_v1(self):\n",
    "        self.v1[0] += 10\n",
    "        \n",
    "f1 = F([0])\n",
    "f1.add_v1()\n",
    "f2 = serde.decode(serde.encode(f1))\n",
    "print(\"f1.v1:\", f1.v1)\n",
    "print(\"f2.v1:\", f2.v1)"
   ]
  },
  {
   "cell_type": "code",
   "execution_count": 13,
   "id": "d6619eef",
   "metadata": {},
   "outputs": [
    {
     "name": "stdout",
     "output_type": "stream",
     "text": [
      "f1.v1: [10]\n",
      "f2.v1: [10]\n"
     ]
    }
   ],
   "source": [
    "@serde.dataclass\n",
    "class F:\n",
    "    v1: List[int]\n",
    "    v2: float = 3.0\n",
    "\n",
    "    def __post_init_post_parse__(self):\n",
    "        self.__init_kwargs__[\"v1\"] = self.v1\n",
    "\n",
    "    def add_v1(self):\n",
    "        self.v1[0] += 10\n",
    "        \n",
    "f1 = F([0])\n",
    "f1.add_v1()\n",
    "f2 = serde.decode(serde.encode(f1))\n",
    "print(\"f1.v1:\", f1.v1)\n",
    "print(\"f2.v1:\", f2.v1)"
   ]
  },
  {
   "cell_type": "markdown",
   "id": "846471ce",
   "metadata": {},
   "source": [
    "## Remain problems"
   ]
  },
  {
   "cell_type": "markdown",
   "id": "3711ea09",
   "metadata": {},
   "source": [
    "### 1. Fix and use EVENTUAL"
   ]
  },
  {
   "cell_type": "markdown",
   "id": "396aed9c",
   "metadata": {},
   "source": [
    "### 2. OrElse"
   ]
  },
  {
   "cell_type": "markdown",
   "id": "0a966287",
   "metadata": {},
   "source": [
    "<font size=3>It not works well if the field is assigned in `__post_init_post_parse__`</font>"
   ]
  },
  {
   "cell_type": "code",
   "execution_count": 14,
   "id": "394ed70f",
   "metadata": {},
   "outputs": [],
   "source": [
    "@serde.dataclass\n",
    "class G:\n",
    "    v1: List[int] = None\n",
    "    v2: List[int] = Field(serde.OrElse(lambda v1: [a * 2 for a in v1]))\n",
    "    def __post_init_post_parse__(self):\n",
    "        if self.v1 is None:\n",
    "            self.v1 = [1]"
   ]
  },
  {
   "cell_type": "code",
   "execution_count": 15,
   "id": "abd8cf80",
   "metadata": {},
   "outputs": [
    {
     "name": "stdout",
     "output_type": "stream",
     "text": [
      "[7] [14]\n",
      "g2 error: 'v1'\n"
     ]
    }
   ],
   "source": [
    "try:\n",
    "    g1 = G([7])\n",
    "    print(g1.v1, g1.v2)\n",
    "except Exception as e:\n",
    "    print(\"g1 error:\", e)\n",
    "try:\n",
    "    g2 = G()\n",
    "    print(g2.v1, g2.v2)\n",
    "except Exception as e:\n",
    "    print(\"g2 error:\", e)"
   ]
  },
  {
   "cell_type": "markdown",
   "id": "032df439",
   "metadata": {},
   "source": [
    "### 3. Checkings in `__post_init_post_parse__()`"
   ]
  },
  {
   "cell_type": "markdown",
   "id": "048aeecb",
   "metadata": {},
   "source": [
    "<font size=3>For example in `src/gluonts/mx/model/seq2seq/_mq_dnn_estimator.py`. In this case we put the `__post_init_post_parse__` method of the base class at that of the end of the subclass.</font>"
   ]
  },
  {
   "cell_type": "code",
   "execution_count": 16,
   "id": "211a910b",
   "metadata": {},
   "outputs": [],
   "source": [
    "@serde.dataclass\n",
    "class ForkingSeq2SeqEstimator():\n",
    "    distr_output: int = Field(None)\n",
    "    quantile_output: float = Field(None)\n",
    "\n",
    "    def __post_init_post_parse__(self):\n",
    "        assert (self.distr_output is None) != (self.quantile_output is None)"
   ]
  },
  {
   "cell_type": "code",
   "execution_count": 17,
   "id": "23ce0ff1",
   "metadata": {},
   "outputs": [],
   "source": [
    "@serde.dataclass\n",
    "class MQCNNEstimator1(ForkingSeq2SeqEstimator):\n",
    "    distr_output: int = Field(None)\n",
    "    quantile_output: float = Field(None)\n",
    "\n",
    "    def __post_init_post_parse__(self):\n",
    "        self.distr_output = 1\n",
    "        super().__post_init_post_parse__()\n",
    "\n",
    "try:\n",
    "    MQCNNEstimator1()\n",
    "except Exception as e:\n",
    "    print(e)"
   ]
  },
  {
   "cell_type": "code",
   "execution_count": 18,
   "id": "7132f97e",
   "metadata": {},
   "outputs": [
    {
     "name": "stdout",
     "output_type": "stream",
     "text": [
      "assert error\n"
     ]
    }
   ],
   "source": [
    "@serde.dataclass\n",
    "class MQCNNEstimator2(ForkingSeq2SeqEstimator):\n",
    "    distr_output: int = Field(None)\n",
    "    quantile_output: float = Field(None)\n",
    "\n",
    "    def __post_init_post_parse__(self):\n",
    "        super().__post_init_post_parse__()\n",
    "        self.distr_output = 1\n",
    "        \n",
    "try:\n",
    "    MQCNNEstimator2()\n",
    "except Exception as e:\n",
    "    print(\"assert error\")"
   ]
  },
  {
   "cell_type": "markdown",
   "id": "5e791de9",
   "metadata": {},
   "source": [
    "<font size=3>But in this case, we should put it at the begining.</font>"
   ]
  },
  {
   "cell_type": "code",
   "execution_count": 19,
   "id": "bd2486a1",
   "metadata": {},
   "outputs": [],
   "source": [
    "@serde.dataclass\n",
    "class Baseclass:\n",
    "    v1: int\n",
    "    v2: int\n",
    "    def __post_init_post_parse__(self):\n",
    "        self.v3 = self.v1 + self.v2"
   ]
  },
  {
   "cell_type": "code",
   "execution_count": 20,
   "id": "c6afd65b",
   "metadata": {},
   "outputs": [],
   "source": [
    "@serde.dataclass\n",
    "class Subclass(Baseclass):\n",
    "    v4: int\n",
    "    def __post_init_post_parse__(self):\n",
    "        super().__post_init_post_parse__()\n",
    "        self.v5 = self.v3 * self.v4"
   ]
  },
  {
   "cell_type": "code",
   "execution_count": 21,
   "id": "9e33df1a",
   "metadata": {},
   "outputs": [
    {
     "data": {
      "text/plain": [
       "(7, 49)"
      ]
     },
     "execution_count": 21,
     "metadata": {},
     "output_type": "execute_result"
    }
   ],
   "source": [
    "s = Subclass(v1=2, v2=5, v4=7)\n",
    "s.v3, s.v5"
   ]
  },
  {
   "cell_type": "markdown",
   "id": "18cd645a",
   "metadata": {},
   "source": [
    "<font size=3>I think we may not use dataclass on abstract class.</font>"
   ]
  }
 ],
 "metadata": {
  "kernelspec": {
   "display_name": "Python 3 (ipykernel)",
   "language": "python",
   "name": "python3"
  },
  "language_info": {
   "codemirror_mode": {
    "name": "ipython",
    "version": 3
   },
   "file_extension": ".py",
   "mimetype": "text/x-python",
   "name": "python",
   "nbconvert_exporter": "python",
   "pygments_lexer": "ipython3",
   "version": "3.8.9"
  }
 },
 "nbformat": 4,
 "nbformat_minor": 5
}
